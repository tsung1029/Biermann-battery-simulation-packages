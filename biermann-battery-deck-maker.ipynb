{
 "cells": [
  {
   "cell_type": "code",
   "execution_count": 1,
   "metadata": {
    "button": false,
    "new_sheet": false,
    "run_control": {
     "read_only": false
    }
   },
   "outputs": [],
   "source": [
    "## Biermann Deck Maker\n",
    "## (c) F. S. Tsung 2019\n",
    "\n",
    "##\n",
    "## library and constants are here\n",
    "## What I do, and what I recommend that you do as well is to use Github to load my library, and include \n",
    "## it in the path as shown below.  \n",
    "##\n",
    "## the constants are in CGS units, I suggest that you do the same.  The notebook assumes CGS units.\n",
    "##\n",
    "\n",
    "import sys\n",
    "# on my mac pro\n",
    "sys.path.append('/Users/uclapic/Documents/code-development/python-tsung') # go to parent dir\n",
    "# on my laptop\n",
    "# sys.path.append('c:/Users/Frank Tsung/Documents/GitHub/python-tsung')\n",
    "\n",
    "\n",
    "# import hfhi\n",
    "import numpy as np\n",
    "import hfhi\n",
    "\n",
    "me = 9.1095e-28\n",
    "qe = 4.8032e-10\n",
    "c_cgs = 2.998e10\n",
    "\n",
    "mypi = 3.1415926"
   ]
  },
  {
   "cell_type": "markdown",
   "metadata": {
    "button": false,
    "new_sheet": false,
    "run_control": {
     "read_only": false
    }
   },
   "source": [
    "#### 2D Biermann Deck Maker\n",
    "\n"
   ]
  },
  {
   "cell_type": "code",
   "execution_count": 2,
   "metadata": {
    "button": false,
    "new_sheet": false,
    "run_control": {
     "read_only": false
    }
   },
   "outputs": [],
   "source": [
    "## first some common constants \n",
    "\n",
    "\n"
   ]
  },
  {
   "cell_type": "code",
   "execution_count": 3,
   "metadata": {
    "button": false,
    "new_sheet": false,
    "run_control": {
     "read_only": false
    }
   },
   "outputs": [
    {
     "name": "stdout",
     "output_type": "stream",
     "text": [
      "('System Length =', '80')\n",
      "('Total Duration = ', '1300', '\\\\omega_{pe}')\n"
     ]
    }
   ],
   "source": [
    "## enter the basic\n",
    "##\n",
    "\n",
    "\n",
    "\n",
    "## in the simulations, we adopt the normalization that the density is normalized to n0, speed is normalized to c, and q/m for \n",
    "## electrons is -1.  Therefore, under these conditions, \n",
    "## nppc -> number of particles per cell\n",
    "\n",
    "## In our normalizations, q/m for electrons is -1\n",
    "## n0 is 1\n",
    "## so electron plasma frequency is 1 by definition\n",
    "## and speed of light is 1\n",
    "## so length \n",
    "\n",
    "nppc = 64\n",
    "\n",
    "n0 = 1.0\n",
    "\n",
    "nb = 0.1\n",
    "\n",
    "vth0 = 0.2\n",
    "\n",
    "vb = 0.01\n",
    "\n",
    "Ln = 20\n",
    "\n",
    "Lt = 40\n",
    "\n",
    "\n",
    "length = 15/8 * Lt * 2\n",
    "\n",
    "print('System Length =',repr(length))\n",
    "\n",
    "duration = 1300\n",
    "\n",
    "print('Total Duration = ', repr(duration),'\\omega_{pe}')\n"
   ]
  },
  {
   "cell_type": "code",
   "execution_count": 4,
   "metadata": {
    "button": false,
    "new_sheet": false,
    "run_control": {
     "read_only": false
    }
   },
   "outputs": [
    {
     "name": "stdout",
     "output_type": "stream",
     "text": [
      "Length in normalized units is : 80\n",
      "Grid size in normalized unit is : 0.18000000000000002\n",
      "total number of cells = 197530\n",
      "total number of particles = 12.64192 millions\n",
      "total number of timesteps = 10422.208792998999\n",
      "CPU estimate = 7.3198183213549948 hours\n",
      "num_par_max estimate = 3950600.0\n"
     ]
    }
   ],
   "source": [
    "\n",
    "# let n0 = 1, so omega_pe = 1.\n",
    "\n",
    "omega_pe = np.sqrt(n0)\n",
    "debye_length= vth0 / omega_pe \n",
    "\n",
    "# print(debye_length)\n",
    "\n",
    "\n",
    "resolution = 0.9 * debye_length\n",
    "\n",
    "grid_number = length/resolution\n",
    "\n",
    "# for 2D it's sqrt(1/2), for 3D the stepsize is sqrt(1/3)\n",
    "# due to the CFL condition of the FDTD scheme.\n",
    "#\n",
    "#\n",
    "\n",
    "CFL = 0.98\n",
    "\n",
    "timestep = CFL * np.sqrt(0.5) * resolution\n",
    "\n",
    "total_cells = int(length/resolution*length/resolution)\n",
    "\n",
    "total_steps = duration / timestep\n",
    "\n",
    "num_par = total_cells * nppc\n",
    "\n",
    "total_cpus = 4\n",
    "\n",
    "# ------------------------------------------------------------------\n",
    "# --  do not touch the lines below, the magic is happening below ---\n",
    "# ------------------------------------------------------------------\n",
    "\n",
    "\n",
    "\n",
    "num_par_max = 1.25 * num_par/total_cpus\n",
    "\n",
    "\n",
    "print('Length in normalized units is : ' +repr(length))\n",
    "print('Grid size in normalized unit is : '+repr( resolution ))\n",
    "print('total number of cells = '+repr(total_cells))\n",
    "print('total number of particles = '+repr(total_cells*nppc/1e6)+' millions')\n",
    "print('total number of timesteps = '+repr(total_steps))\n",
    "print('CPU estimate = '+repr(total_steps*total_cells*nppc*2e-7/3600)+' hours')\n",
    "print('num_par_max estimate = '+repr(num_par_max))"
   ]
  },
  {
   "cell_type": "code",
   "execution_count": 5,
   "metadata": {},
   "outputs": [
    {
     "name": "stdout",
     "output_type": "stream",
     "text": [
      "node_conf\n",
      "{\n",
      "('  nx_p(1:2) = ', '4', ',', '4', ',')\n",
      " coordinates = \"cartesian \", \n",
      " if_periodic(1:2) = .true., .true.,\n",
      "}\n",
      "grid\n",
      "{\n",
      "('  nx_p(1:2) = ', '445.0', ',', '445.0', ',')\n",
      "}\n",
      "time_step\n",
      "{\n",
      "('  dt = ', '0.12473363620130699', ',')\n",
      "('  ndump = ', '802.0', ',')\n",
      "}\n",
      "restart\n",
      "{\n",
      "if_restart = .false.,\n",
      "ndump_fac = 0 ,\n",
      "}\n",
      "space\n",
      "{\n",
      "('  xmin(1:2) = ', '-40.0', ',', '-40.0', ',')\n",
      "('  xmax(1:2) = ', '40.0', ',', '40.0', ',')\n",
      "}\n",
      "time\n",
      "{\n",
      "  tmin = 0 ,\n",
      "('  tmax = ', '1300', ',')\n",
      "}\n"
     ]
    }
   ],
   "source": [
    "## Here we work out the simulation box size and so on.\n",
    "##\n",
    "##\n",
    "import math\n",
    "##\n",
    "\n",
    "\n",
    "##\n",
    "##\n",
    "## here we describe the node layout\n",
    "##\n",
    "##\n",
    "nprocx = 4\n",
    "nprocy = 4\n",
    "\n",
    "\n",
    "## here we describe the time between diagnostics\n",
    "dump_time = 100.0 \n",
    "ndump = math.ceil(dump_time/timestep)\n",
    "##\n",
    "##\n",
    "print(\"node_conf\")\n",
    "print(\"{\")\n",
    "print(\"  nx_p(1:2) = \", repr(nprocx),',', repr(nprocy),',' )\n",
    "print(\" coordinates = \\\"cartesian \\\", \")\n",
    "print(\" if_periodic(1:2) = .true., .true.,\")\n",
    "print(\"}\")\n",
    "\n",
    "print(\"grid\")\n",
    "print(\"{\")\n",
    "print(\"  nx_p(1:2) = \", repr(math.ceil(grid_number)),',', repr(math.ceil(grid_number)),',' )\n",
    "print(\"}\")\n",
    "\n",
    "\n",
    "print(\"time_step\")\n",
    "print(\"{\")\n",
    "print(\"  dt = \", repr(timestep),',')\n",
    "print(\"  ndump = \", repr(ndump),',')\n",
    "print(\"}\")\n",
    "\n",
    "print(\"restart\")\n",
    "print(\"{\")\n",
    "print(\"if_restart = .false.,\")\n",
    "print(\"ndump_fac = 0 ,\")\n",
    "print(\"}\")\n",
    "\n",
    "\n",
    "\n",
    "\n",
    "\n",
    "print(\"space\")\n",
    "print(\"{\")\n",
    "print(\"  xmin(1:2) = \", repr(-length/2.0),',', repr(-length/2.0),',' )\n",
    "print(\"  xmax(1:2) = \", repr(length/2.0),',', repr(length/2.0),',' )\n",
    "print(\"}\")\n",
    "\n",
    "print(\"time\")\n",
    "print(\"{\")\n",
    "print(\"  tmin = 0 ,\" )\n",
    "print(\"  tmax = \", repr(duration),',' )\n",
    "print(\"}\")"
   ]
  },
  {
   "cell_type": "code",
   "execution_count": 10,
   "metadata": {
    "button": false,
    "new_sheet": false,
    "run_control": {
     "read_only": false
    }
   },
   "outputs": [
    {
     "name": "stdout",
     "output_type": "stream",
     "text": [
      "species \n",
      " {\n",
      " rqm = -1.0 , \n",
      " num_par_x(1,2) = 8,8, \n",
      " n_sort = 25, \n",
      "}\n",
      "udist\n",
      "{\n",
      "  use_spatial_uth=.true.,\n",
      "('  spatial_ufl(1) = (if (x1*x1  <', '1600', ') ,', '0.19', ' * cos(3.1415926*x1/(2.0 *', '40', ') ) + ', '0.01', ', ', '0.01', '),')\n",
      "('  spatial_ufl(2) = (if (x1*x1  <', '1600', ') ,', '0.19', ' * cos(3.1415926*x1/(2.0 *', '40', ') ) + ', '0.01', ', ', '0.01', '),')\n",
      "('  spatial_ufl(3) = (if (x1*x1  <', '1600', ') ,', '0.19', ' * cos(3.1415926*x1/(2.0 *', '40', ') ) + ', '0.01', ', ', '0.01', '),')\n",
      "profile\n",
      "{\n",
      "  profile_type(1,2)= \"math func\", \"math func\"\n",
      "('  math_func_expr = (if (sqrt(x1*x1 + (x2*x2*', '4', ' )) < ', '40', '),  (', '1.0', '-', '0.1', ') * cos( 3.1415926 * sqrt(x1*x1+(x2*x2)*', '4', ')/ ( 2*', '40', ' ) ), ', '0.1')\n",
      "}\n",
      "spe_bound\n",
      "{\n",
      "}\n"
     ]
    }
   ],
   "source": [
    "## Here we make the namelist for electrons\n",
    "\n",
    "## electron namelist\n",
    "\n",
    "\n",
    "print('species ')\n",
    "print(' {')\n",
    "# print(' num_par_max = '+repr(int(num_par_max))+' ,')\n",
    "print(' rqm = -1.0 , ')\n",
    "print(' num_par_x(1,2) = 8,8, ')\n",
    "print(' n_sort = 25, ')\n",
    "print('}')\n",
    "\n",
    "print('udist')\n",
    "print('{')\n",
    "\n",
    "print('  use_spatial_uth=.true.,')\n",
    "\n",
    "\n",
    "# print('spatial_uth(1)=')\n",
    "# print(' spatial_ufl(1) = (if (x1*x1+x2*x2 <',repr(Lt*Lt),') ,',repr(vth0+vb),', ' )\n",
    "print('  spatial_ufl(1) = (if (x1*x1  <',repr(Lt*Lt),') ,',repr(vth0-vb),\n",
    "      ' * cos(3.1415926*x1/(2.0 *',repr(Lt),') ) + '\n",
    "      ,repr(vb),', ',repr(vb),'),')\n",
    "print('  spatial_ufl(2) = (if (x1*x1  <',repr(Lt*Lt),') ,',repr(vth0-vb),\n",
    "      ' * cos(3.1415926*x1/(2.0 *',repr(Lt),') ) + '\n",
    "      ,repr(vb),', ',repr(vb),'),')\n",
    "print('  spatial_ufl(3) = (if (x1*x1  <',repr(Lt*Lt),') ,',repr(vth0-vb),\n",
    "      ' * cos(3.1415926*x1/(2.0 *',repr(Lt),') ) + '\n",
    "      ,repr(vb),', ',repr(vb),'),')\n",
    "\n",
    "\n",
    "\n",
    "print('profile')\n",
    "print('{')\n",
    "print('  profile_type(1,2)= \\\"math func\\\", \\\"math func\\\"' )\n",
    "print('  math_func_expr = (if (sqrt(x1*x1 + (x2*x2*',repr(Lt/Ln*Lt/Ln),' )) < ',repr(Lt) , \n",
    "      '),  (',\n",
    "      repr(n0),'-',repr(nb),\n",
    "      ') * cos( 3.1415926 * sqrt(x1*x1+(x2*x2)*',repr(Lt/Ln*Lt/Ln),')/ ( 2*',repr(Lt),' ) ), ' \n",
    "      ,repr(nb))\n",
    "# print(' density = '+ repr(density)+' ,')\n",
    "print('}')\n",
    "\n",
    "print('spe_bound')\n",
    "print('{')\n",
    "\n",
    "print('}')\n"
   ]
  },
  {
   "cell_type": "code",
   "execution_count": 6,
   "metadata": {},
   "outputs": [
    {
     "name": "stdout",
     "output_type": "stream",
     "text": [
      "species \n",
      " {\n",
      "(' rqm = ', '400', ',')\n",
      " num_par_x(1,2) = 8,8, \n",
      " n_sort = 25, \n",
      "}\n",
      "udist\n",
      "{\n",
      "  \n",
      "('  uth(1) = ', '0.01', '),')\n",
      "('  uth(2) = ', '0.01', '),')\n",
      "('  uth(3) = ', '0.01', '),')\n",
      "profile\n",
      "{\n",
      "  profile_type(1,2)= \"math func\", \"math func\"\n",
      "('  math_func_expr = (if (sqrt(x1*x1 + (x2*x2*', '4', ' )) < ', '40', '),  (', '1.0', '-', '0.1', ') * cos( 3.1415926 * sqrt(x1*x1+(x2*x2)*', '4', ')/ ( 2*', '40', ' ) ), ', '0.1')\n",
      "}\n",
      "spe_bound\n",
      "{\n",
      "}\n"
     ]
    }
   ],
   "source": [
    "## ion namelist:\n",
    "\n",
    "## Here we make the namelist for electrons\n",
    "\n",
    "## electron namelist\n",
    "rmass = 400\n",
    "\n",
    "vth_i = 0.01\n",
    "\n",
    "print('species ')\n",
    "print(' {')\n",
    "# print(' num_par_max = '+repr(int(num_par_max))+' ,')\n",
    "print(' rqm = ',repr(rmass),',')\n",
    "print(' num_par_x(1,2) = 8,8, ')\n",
    "print(' n_sort = 25, ')\n",
    "print('}')\n",
    "\n",
    "print('udist')\n",
    "print('{')\n",
    "\n",
    "print('  ')\n",
    "\n",
    "\n",
    "# print('spatial_uth(1)=')\n",
    "# print(' spatial_ufl(1) = (if (x1*x1+x2*x2 <',repr(Lt*Lt),') ,',repr(vth0+vb),', ' )\n",
    "print('  uth(1) = ' ,repr(vth_i), '),')\n",
    "print('  uth(2) = ' ,repr(vth_i), '),')\n",
    "print('  uth(3) = ' ,repr(vth_i), '),')\n",
    "\n",
    "\n",
    "print('profile')\n",
    "print('{')\n",
    "print('  profile_type(1,2)= \\\"math func\\\", \\\"math func\\\"' )\n",
    "print('  math_func_expr = (if (sqrt(x1*x1 + (x2*x2*',repr(Lt/Ln*Lt/Ln),' )) < ',repr(Lt) , \n",
    "      '),  (',\n",
    "      repr(n0),'-',repr(nb),\n",
    "      ') * cos( 3.1415926 * sqrt(x1*x1+(x2*x2)*',repr(Lt/Ln*Lt/Ln),')/ ( 2*',repr(Lt),' ) ), ' \n",
    "      ,repr(nb))\n",
    "# print(' density = '+ repr(density)+' ,')\n",
    "print('}')\n",
    "\n",
    "print('spe_bound')\n",
    "print('{')\n",
    "\n",
    "print('}')\n"
   ]
  }
 ],
 "metadata": {
  "kernelspec": {
   "display_name": "Python 2",
   "language": "python",
   "name": "python2"
  },
  "language_info": {
   "codemirror_mode": {
    "name": "ipython",
    "version": 2
   },
   "file_extension": ".py",
   "mimetype": "text/x-python",
   "name": "python",
   "nbconvert_exporter": "python",
   "pygments_lexer": "ipython2",
   "version": "2.7.15"
  },
  "widgets": {
   "application/vnd.jupyter.widget-state+json": {
    "state": {},
    "version_major": 2,
    "version_minor": 0
   }
  }
 },
 "nbformat": 4,
 "nbformat_minor": 2
}
